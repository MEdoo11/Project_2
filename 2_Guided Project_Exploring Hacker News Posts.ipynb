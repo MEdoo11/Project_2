{
 "cells": [
  {
   "cell_type": "markdown",
   "metadata": {},
   "source": [
    "# *Guided Project: Exploring Hacker News Posts*\n",
    "\n",
    "In this project, we are going to work with a dataset from [Hacker News](https://news.ycombinator.com/)\n",
    "\n",
    "Hacker News is a site started by the startup incubator Y Combinator, where user-submitted stories (known as \"posts\") are voted and commented upon, similar to reddit. Hacker News is extremely popular in technology and startup circles, and posts that make it to the top of Hacker News' listings can get hundreds of thousands of visitors as a result.\n",
    "\n",
    "The original dataset is available on [Kaggle](https://www.kaggle.com/hacker-news/hacker-news-posts)\n",
    "<br>\n",
    "However, note that in this project we are going to use the modified dataset. In the modified dataset, the rows was reduced from almost 300,000 rows to approximately 20,000 rows by removing all submissions that did not receive any comments, and then randomly sampling from the remaining submissions.\n",
    "<br><br>\n",
    "Here are the first few rows of the data set:\n",
    "<br><br>\n",
    "\n",
    "|id          |title                |url                                       |\n",
    "|-|-|-|\n",
    "|   12224879  | Interactive Dynamic Video\t|http://www.interactivedynamicvideo.com/\t|\n",
    "||||\n",
    "|   10975351  | How to Use Open Source and Shut the F*ck Up at the Same Time\t|http://hueniverse.com/2016/01/26/how-to-use-open-source-and-shut-the-fuck-up-at-the-same-time/\t|\n",
    "||||\n",
    "|   11964716  | Florida DJs May Face Felony for April Fools' Water Joke\t|http://www.thewire.com/entertainment/2013/04/florida-djs-april-fools-water-joke/63798/\t|\n",
    "||||\n",
    "|   11919867  | Technology ventures: From Idea to Enterprise\t|https://www.amazon.com/Technology-Ventures-Enterprise-Thomas-Byers/dp/0073523429\t|\n",
    "||||\n",
    "|   10301696  | Note by Note: The Making of Steinway L1037 (2007)\t|http://www.nytimes.com/2007/11/07/movies/07stein.html?_r=0\t|\n",
    "\n",
    "<br><br>\n",
    "We're specifically interested in posts whose titles begin with either Ask HN or Show HN. \n",
    "<br>\n",
    "Users submit Ask HN posts to ask the Hacker News community a specific question. Below are a couple examples:\n",
    "<br>\n",
    "\n",
    "***\n",
    "\n",
    "```\n",
    "Ask HN: How to improve my personal website?\n",
    "Ask HN: Am I the only one outraged by Twitter shutting down share counts?\n",
    "Ask HN: Aby recent changes to CSS that broke mobile?\n",
    "```\n",
    "\n",
    "***\n",
    "Likewise, users submit Show HN posts to show the Hacker News community a project, product, or just generally something interesting. Below are a couple of examples:\n",
    "***\n",
    "```\n",
    "Show HN: Wio Link  ESP8266 Based Web of Things Hardware Development Platform'\n",
    "Show HN: Something pointless I made\n",
    "Show HN: Shanhu.io, a programming playground powered by e8vm\n",
    "```\n",
    "***\n",
    "**The purpose of this project is to answer the following questions:\n",
    "<br><br>\n",
    "(1) Which kind of posts receive the most comments?\n",
    "<br>\n",
    "(2) What is the most optimal time to create posts that gather the most comments?\n",
    "<br>\n",
    "(3) Which kind of posts receive the most points?\n",
    "<br>\n",
    "(4) What is the most optimal time to create posts that gather the most points?**\n",
    "\n"
   ]
  },
  {
   "cell_type": "markdown",
   "metadata": {},
   "source": [
    "\n",
    "## 1. Opening The Data: hacker_news.csv\n",
    "\n",
    "As a start, we will do the following:\n",
    "<br><br>\n",
    "(1) Read the hacker_news.csv file in as a list of lists.\n",
    "<br>\n",
    "(2) Assign the result to the variable hn."
   ]
  },
  {
   "cell_type": "code",
   "execution_count": 1,
   "metadata": {},
   "outputs": [],
   "source": [
    "opened_file = open('hacker_news.csv') #(1)\n",
    "\n",
    "from csv import reader\n",
    "read_file = reader(opened_file)\n",
    "\n",
    "hn = list(read_file) #(2)"
   ]
  },
  {
   "cell_type": "markdown",
   "metadata": {},
   "source": [
    "**1.1. Header and columns**\n",
    "\n",
    "Next, after opening the data we want to:\n",
    "<br>\n",
    "1. extract the first row of data, and assign it to the variable hn_header.\n",
    "<br>\n",
    "2. Display headers.\n",
    "3. Describe the columns\n"
   ]
  },
  {
   "cell_type": "code",
   "execution_count": 2,
   "metadata": {},
   "outputs": [
    {
     "name": "stdout",
     "output_type": "stream",
     "text": [
      "header: ['id', 'title', 'url', 'num_points', 'num_comments', 'author', 'created_at']\n"
     ]
    }
   ],
   "source": [
    "hn_header = hn[0] #(1)\n",
    "print('header: ' + str(hn_header)) #(2)\n",
    "\n",
    "#(3) column description below"
   ]
  },
  {
   "cell_type": "markdown",
   "metadata": {},
   "source": [
    "Column description:\n",
    "\n",
    "**id**: The unique identifier from Hacker News for the post\n",
    "<br>\n",
    "**title**: The title of the post\n",
    "<br>\n",
    "**url**: The URL that the posts links to, if it the post has a URL\n",
    "<br>\n",
    "**num_points**: The number of points the post acquired, calculated as the total number of upvotes minus the total number of downvotes\n",
    "<br>\n",
    "**num_comments**: The number of comments that were made on the post\n",
    "<br>\n",
    "**author**: The username of the person who submitted the post\n",
    "<br>\n",
    "**created_at**: The date and time at which the post was submitted\n",
    "<br><br>"
   ]
  },
  {
   "cell_type": "markdown",
   "metadata": {},
   "source": [
    "**1.2. Overview**\n",
    "\n",
    "Next, we want to get an overview of the dataset that we are working on.\n",
    "<br> To do that, we will do the following:\n",
    "\n",
    "(1) Separate the header from the rest of the file\n",
    "<br>\n",
    "(2) Display the first five rows of hn with the header removed\n",
    "<br>\n",
    "(3) Display the length of the file\n",
    "<br>"
   ]
  },
  {
   "cell_type": "code",
   "execution_count": 3,
   "metadata": {},
   "outputs": [
    {
     "name": "stdout",
     "output_type": "stream",
     "text": [
      "The first 5 rows are:\n"
     ]
    },
    {
     "data": {
      "text/plain": [
       "[['12224879',\n",
       "  'Interactive Dynamic Video',\n",
       "  'http://www.interactivedynamicvideo.com/',\n",
       "  '386',\n",
       "  '52',\n",
       "  'ne0phyte',\n",
       "  '8/4/2016 11:52'],\n",
       " ['10975351',\n",
       "  'How to Use Open Source and Shut the Fuck Up at the Same Time',\n",
       "  'http://hueniverse.com/2016/01/26/how-to-use-open-source-and-shut-the-fuck-up-at-the-same-time/',\n",
       "  '39',\n",
       "  '10',\n",
       "  'josep2',\n",
       "  '1/26/2016 19:30'],\n",
       " ['11964716',\n",
       "  \"Florida DJs May Face Felony for April Fools' Water Joke\",\n",
       "  'http://www.thewire.com/entertainment/2013/04/florida-djs-april-fools-water-joke/63798/',\n",
       "  '2',\n",
       "  '1',\n",
       "  'vezycash',\n",
       "  '6/23/2016 22:20'],\n",
       " ['11919867',\n",
       "  'Technology ventures: From Idea to Enterprise',\n",
       "  'https://www.amazon.com/Technology-Ventures-Enterprise-Thomas-Byers/dp/0073523429',\n",
       "  '3',\n",
       "  '1',\n",
       "  'hswarna',\n",
       "  '6/17/2016 0:01']]"
      ]
     },
     "execution_count": 3,
     "metadata": {},
     "output_type": "execute_result"
    }
   ],
   "source": [
    "hn = hn[1:] #(1)\n",
    "\n",
    "print(\"The first 5 rows are:\") #(2)\n",
    "hn[:4]"
   ]
  },
  {
   "cell_type": "code",
   "execution_count": 4,
   "metadata": {},
   "outputs": [
    {
     "name": "stdout",
     "output_type": "stream",
     "text": [
      "length: 20100 rows\n"
     ]
    }
   ],
   "source": [
    "print('length: ' + str(len(hn)) + ' rows') #(3)"
   ]
  },
  {
   "cell_type": "markdown",
   "metadata": {},
   "source": [
    "## 2. FIltering The Data\n",
    "<br>\n",
    "Since we're only concerned with post titles beginning with Ask HN or Show HN, we'll create new lists of lists containing just the data for those titles.\n",
    "\n",
    "Note: To find the posts that begin with either Ask HN or Show HN, we'll use the string method, **startswith(&nbsp; )**\n",
    "\n",
    "<br>\n",
    "We will do the following:\n",
    "<br>\n",
    "(1) Create three empty lists called ask_posts, show_posts, and other_posts.\n",
    "<br>\n",
    "(2) Loop through each row in hn.\n",
    "<br>\n",
    "&nbsp;&emsp; - Assign the title in each row to a variable named title (element index 1)\n",
    "<br>\n",
    "&nbsp;&emsp; - If the lowercase version of title starts with ask hn, append the row to ask_posts.\n",
    "<br>\n",
    "&nbsp;&emsp; - Else if the lowercase version of title starts with show hn, append the row to show_posts.\n",
    "<br>\n",
    "&nbsp;&emsp; - Else append to other_posts.\n",
    "<br>\n",
    "(3) Print the first five rows in ask_posts, show_posts, and other_posts.\n",
    "<br>\n",
    "(4) Check the number of posts in each list"
   ]
  },
  {
   "cell_type": "code",
   "execution_count": 40,
   "metadata": {},
   "outputs": [],
   "source": [
    "#(1)\n",
    "ask_posts = [] #Ask HN\n",
    "show_posts = [] #Show HN\n",
    "other_posts = []"
   ]
  },
  {
   "cell_type": "code",
   "execution_count": 6,
   "metadata": {},
   "outputs": [],
   "source": [
    "for row in hn: #(2)\n",
    "    title = row[1]\n",
    "    if title.lower().startswith('ask hn'):\n",
    "        ask_posts.append(row)\n",
    "    elif title.lower().startswith('show hn'):\n",
    "        show_posts.append(row)\n",
    "    else:\n",
    "        other_posts.append(row)"
   ]
  },
  {
   "cell_type": "code",
   "execution_count": 7,
   "metadata": {},
   "outputs": [
    {
     "name": "stdout",
     "output_type": "stream",
     "text": [
      "The first five rows in each list:\n",
      "\n",
      "\n",
      "--ask_posts--\n",
      "[['12296411', 'Ask HN: How to improve my personal website?', '', '2', '6', 'ahmedbaracat', '8/16/2016 9:55'], ['10610020', 'Ask HN: Am I the only one outraged by Twitter shutting down share counts?', '', '28', '29', 'tkfx', '11/22/2015 13:43'], ['11610310', 'Ask HN: Aby recent changes to CSS that broke mobile?', '', '1', '1', 'polskibus', '5/2/2016 10:14'], ['12210105', 'Ask HN: Looking for Employee #3 How do I do it?', '', '1', '3', 'sph130', '8/2/2016 14:20']]\n",
      "\n",
      "\n",
      "--show_posts--\n",
      "[['10627194', 'Show HN: Wio Link  ESP8266 Based Web of Things Hardware Development Platform', 'https://iot.seeed.cc', '26', '22', 'kfihihc', '11/25/2015 14:03'], ['10646440', 'Show HN: Something pointless I made', 'http://dn.ht/picklecat/', '747', '102', 'dhotson', '11/29/2015 22:46'], ['11590768', 'Show HN: Shanhu.io, a programming playground powered by e8vm', 'https://shanhu.io', '1', '1', 'h8liu', '4/28/2016 18:05'], ['12178806', 'Show HN: Webscope  Easy way for web developers to communicate with Clients', 'http://webscopeapp.com', '3', '3', 'fastbrick', '7/28/2016 7:11']]\n",
      "\n",
      "\n",
      "--other_posts--\n",
      "[['12224879', 'Interactive Dynamic Video', 'http://www.interactivedynamicvideo.com/', '386', '52', 'ne0phyte', '8/4/2016 11:52'], ['10975351', 'How to Use Open Source and Shut the Fuck Up at the Same Time', 'http://hueniverse.com/2016/01/26/how-to-use-open-source-and-shut-the-fuck-up-at-the-same-time/', '39', '10', 'josep2', '1/26/2016 19:30'], ['11964716', \"Florida DJs May Face Felony for April Fools' Water Joke\", 'http://www.thewire.com/entertainment/2013/04/florida-djs-april-fools-water-joke/63798/', '2', '1', 'vezycash', '6/23/2016 22:20'], ['11919867', 'Technology ventures: From Idea to Enterprise', 'https://www.amazon.com/Technology-Ventures-Enterprise-Thomas-Byers/dp/0073523429', '3', '1', 'hswarna', '6/17/2016 0:01']]\n"
     ]
    }
   ],
   "source": [
    "print('The first five rows in each list:')  #(3)\n",
    "print('\\n')\n",
    "print('--ask_posts--')\n",
    "print(ask_posts[:4])\n",
    "print('\\n')\n",
    "print('--show_posts--')\n",
    "print(show_posts[:4])\n",
    "print('\\n')\n",
    "print('--other_posts--')\n",
    "print(other_posts[:4])\n"
   ]
  },
  {
   "cell_type": "code",
   "execution_count": 8,
   "metadata": {},
   "outputs": [
    {
     "name": "stdout",
     "output_type": "stream",
     "text": [
      "Checking the number of posts:\n",
      "\n",
      "\n",
      "length of ask_posts: 1744 posts\n",
      "length of show_posts: 1162 posts\n",
      "length of other_posts: 17194 posts\n"
     ]
    }
   ],
   "source": [
    "print('Checking the number of posts:')  #(4)\n",
    "print('\\n')\n",
    "print('length of ask_posts: ' + str(len(ask_posts)) + ' posts')\n",
    "print('length of show_posts: ' + str(len(show_posts)) + ' posts')\n",
    "print('length of other_posts: ' + str(len(other_posts)) + ' posts')"
   ]
  },
  {
   "cell_type": "markdown",
   "metadata": {},
   "source": [
    "## 3. Exploring num_comments\n",
    "<br>\n",
    "\n",
    "**3.1. explore(&nbsp;&nbsp;)**\n",
    "\n",
    "To explore the num_comments(index 4) or num_points (index 3) column in each list, we create a function, explore_(&nbsp; )\n",
    "<br>\n",
    "This function takes list_name and variable_name as an argument, and does the following:\n",
    "<br><br>\n",
    "(1) Create new parameters, total_variable and row_variable. Then set both to 0\n",
    "<br>&nbsp;&emsp; - total_variable will be used to calculate the sum of comments or points in a list\n",
    "<br>&nbsp;&emsp; - row_variable will be used to determine the row number for comments or points\n",
    "<br>\n",
    "(2) Loop through each row in list_name.\n",
    "<br>\n",
    "&nbsp;&emsp; - Convert the element at index 4(num_comments), or at index 3(num_points), to an int\n",
    "<br>\n",
    "&nbsp;&emsp; - Assign it to num_variable\n",
    "<br>\n",
    "(3) Compute the average number of comments by dividing total_comments with the length of the list\n",
    "<br>&nbsp;&emsp; - Assign it to avg_variable\n",
    "<br>\n",
    "(4) print avg_variable and round it to two decimals\n",
    "\n",
    "Using explore_(&nbsp;&nbsp;) , we explore the num_comments column in ask_posts, and show_posts"
   ]
  },
  {
   "cell_type": "code",
   "execution_count": 9,
   "metadata": {},
   "outputs": [],
   "source": [
    "def explore(list_name, variable_name):  \n",
    "    total_variable = 0 #(1)\n",
    "    row_variable = 0\n",
    "    \n",
    "    if variable_name == 'comments':\n",
    "        row_variable = 4\n",
    "    if variable_name == 'points':\n",
    "        row_variable = 3\n",
    "        \n",
    "    for row in list_name: #(2)\n",
    "        num_variable = int(row[row_variable])\n",
    "        total_variable += num_variable \n",
    "    avg_variable = total_variable / len(list_name) #3\n",
    "    \n",
    "    print(round(avg_variable,2)) #4"
   ]
  },
  {
   "cell_type": "code",
   "execution_count": 10,
   "metadata": {},
   "outputs": [
    {
     "name": "stdout",
     "output_type": "stream",
     "text": [
      "Average comments on ask_posts:\n",
      "14.04\n",
      "\n",
      "\n",
      "Average comments on show_posts:\n",
      "10.32\n"
     ]
    }
   ],
   "source": [
    "print('Average comments on ask_posts:') #calling explore( ) \n",
    "explore(ask_posts, 'comments')           #to explore the num_comments column\n",
    "print('\\n')                               #in ask_posts, and show_posts\n",
    "print('Average comments on show_posts:')\n",
    "explore(show_posts, 'comments')"
   ]
  },
  {
   "cell_type": "markdown",
   "metadata": {},
   "source": [
    "Using the explore(&nbsp;&nbsp;) we found the following:\n",
    "\n",
    "* **ask_posts** has **more** comments on average with 14.04 average comments\n",
    "* **show_posts** came in **less** comments on average with 10.32 average comments\n",
    "\n",
    "Since ask_posts has more comments on average, this indicates that ask_posts are more likely to receive comments from the user. Hence, we will focus on ask_posts when exploring the num_comments column\n",
    "\n",
    "**This answers our first question: Which kind of posts receive the most comments? \n",
    "<br>Answer: Posts that start with Ask HN (ask_posts)**"
   ]
  },
  {
   "cell_type": "markdown",
   "metadata": {},
   "source": [
    "**FInding the optimal time to create a post in ask_posts, in order to get the most comments** \n",
    "<br>\n",
    "\n",
    "We want to determine if there is an optimal time to create a post in ask_posts that can get us the most comments. \n",
    "<br>We will do the following:\n",
    "<br><br>\n",
    "(1) Calculate the amount of posts created in ask_posts in each hour of the day (posts per hour).\n",
    "<br>\n",
    "(2) Calculate the average number of comments per post in ask posts in every hour. (comments per hour)\n",
    "<br><br>\n",
    "Note: To calculate the amount of posts created in ask_posts in each hour of the day, we will use the **datetime module** to work with the data in the created_at column."
   ]
  },
  {
   "cell_type": "markdown",
   "metadata": {},
   "source": [
    "**3.2 hourly_average(&nbsp; )**\n",
    "\n",
    "We will do the two aforementioned things above by creating a function, hourly_average(&nbsp; ), \n",
    "<br>\n",
    "This function takes list_name and variable_name as arguments, and does the following:\n",
    "<br>\n",
    "\n",
    "(1)  &nbsp; Create a new parameter, row_variable, and set it to 0\n",
    "<br> &nbsp;&emsp;&emsp; - row_variable will be used to determine the row number for comments or points\n",
    "<br>\n",
    "(2)  &nbsp; Create two empty dictionaries called posts_per_hour and variable_per_hour\n",
    "<br>\n",
    "(3)  &nbsp; Create a string to store the date format, and assign it to date_format\n",
    "<br>\n",
    "(4)  &nbsp; Loop through each row in list_name\n",
    "<br>\n",
    "(5)  &nbsp; Extract the hour from the date\n",
    "<br> &nbsp;&emsp;&emsp; - Use the datetime.strptime() method to parse the date and create a datetime object.\n",
    "<br> &nbsp;&emsp;&emsp; - Use the datetime.strftime() method to select just the hour from the datetime object.\n",
    "<br>\n",
    "(6)  &nbsp; If the hour isn't a key in posts_per_hour:\n",
    "<br> &nbsp;&emsp;&emsp; - Create the key in posts_per_hour and set it equal to 1\n",
    "<br> &nbsp;&emsp;&emsp; - Create the key in variable_per_hour and set it equal to the comment number (num_variable)\n",
    "<br> &nbsp;&emsp;&emsp; - Else increment the key in both posts_per_hour and variable_per_hour by '1' and comment number (num_variable) respectively\n",
    "<br>&nbsp;&emsp;Create the key in variable_per_hour and set it equal to the comment number\n",
    "<br>\n",
    "(7)  &nbsp; Print posts_per_hour and variable_per_hour\n",
    "<br>\n",
    "(8)  &nbsp; Create an ampty list called avg_by_hour\n",
    "<br>\n",
    "(9)  &nbsp; Loop through posts_per_hour and append its elements to the avg_by_hour list that we just created\n",
    "<br>\n",
    "(10) Sort avg_by_hour using **sorted(&nbsp; )** then print it \n",
    "<br> &nbsp;&emsp;&emsp; - set *Reverse = True* to sort in descending order\n",
    "<br> &nbsp;&emsp;&emsp; - Since the first column of this list is the average number of comments, sorting the list will sort by the average number of comments.\n",
    "<br>\n",
    "(11) Returns avg_by_hour"
   ]
  },
  {
   "cell_type": "code",
   "execution_count": 11,
   "metadata": {},
   "outputs": [],
   "source": [
    "import datetime as dt\n",
    "\n",
    "def hourly_average(list_name, variable_name):\n",
    "#(1)  \n",
    "    row_variable = 0                   \n",
    "    if variable_name == 'comments':\n",
    "        row_variable = 4\n",
    "    if variable_name == 'points':\n",
    "        row_variable = 3\n",
    "        \n",
    "#(2)       \n",
    "    posts_per_hour = {} #counting number of post per hour              \n",
    "    variable_per_hour = {} #counting number of comments per hour\n",
    "    \n",
    "#(3)   \n",
    "    date_format = \"%m/%d/%Y %H:%M\"      \n",
    "    \n",
    "#(4)  \n",
    "    for row in list_name: #(4)\n",
    "        num_variable = int(row[row_variable])\n",
    "        datetime_str = row[6]\n",
    "#(5)          \n",
    "        datetime_dt = dt.datetime.strptime(datetime_str, date_format) #parse the date and create a datetime object.\n",
    "        hour_str = datetime_dt.strftime(\"%I %p\")\n",
    "\n",
    "#(6)  \n",
    "        if hour_str not in posts_per_hour:\n",
    "            posts_per_hour[hour_str] = 1\n",
    "            variable_per_hour[hour_str] = num_variable\n",
    "        else:\n",
    "            posts_per_hour[hour_str] += 1\n",
    "            variable_per_hour[hour_str] += num_variable\n",
    "\n",
    "#(7)  \n",
    "    print('posts_per_hour')\n",
    "    print(posts_per_hour)\n",
    "    print('\\n')\n",
    "    \n",
    "    if variable_name == 'comments':\n",
    "        print('comments_per_hour')\n",
    "    if variable_name == 'points':\n",
    "        print('points_per_hour')\n",
    "    \n",
    "    print(variable_per_hour) \n",
    "\n",
    "#(8)  \n",
    "    avg_by_hour = []\n",
    "    \n",
    "#(9)  \n",
    "    for hour in posts_per_hour:\n",
    "        avg_by_hour.append([ round(variable_per_hour[hour] / posts_per_hour[hour],2), hour ])\n",
    "    \n",
    "#(10)  \n",
    "    avg_by_hour = sorted(avg_by_hour, reverse = True)\n",
    "    print('\\n')\n",
    "    \n",
    "    print('avg_by_hour (sorted in descending order)')\n",
    "\n",
    "    print(avg_by_hour)\n",
    "\n",
    "#(11)  \n",
    "    return avg_by_hour"
   ]
  },
  {
   "cell_type": "code",
   "execution_count": 12,
   "metadata": {},
   "outputs": [
    {
     "name": "stdout",
     "output_type": "stream",
     "text": [
      "posts_per_hour\n",
      "{'09 AM': 45, '01 PM': 85, '10 AM': 59, '02 PM': 107, '04 PM': 108, '11 PM': 68, '12 PM': 73, '05 PM': 100, '03 PM': 116, '09 PM': 109, '08 PM': 80, '02 AM': 58, '06 PM': 109, '03 AM': 54, '05 AM': 46, '07 PM': 110, '01 AM': 60, '10 PM': 71, '08 AM': 48, '04 AM': 47, '12 AM': 55, '06 AM': 44, '07 AM': 34, '11 AM': 58}\n",
      "\n",
      "\n",
      "comments_per_hour\n",
      "{'09 AM': 251, '01 PM': 1253, '10 AM': 793, '02 PM': 1416, '04 PM': 1814, '11 PM': 543, '12 PM': 687, '05 PM': 1146, '03 PM': 4477, '09 PM': 1745, '08 PM': 1722, '02 AM': 1381, '06 PM': 1439, '03 AM': 421, '05 AM': 464, '07 PM': 1188, '01 AM': 683, '10 PM': 479, '08 AM': 492, '04 AM': 337, '12 AM': 447, '06 AM': 397, '07 AM': 267, '11 AM': 641}\n",
      "\n",
      "\n",
      "avg_by_hour (sorted in descending order)\n",
      "[[38.59, '03 PM'], [23.81, '02 AM'], [21.52, '08 PM'], [16.8, '04 PM'], [16.01, '09 PM'], [14.74, '01 PM'], [13.44, '10 AM'], [13.23, '02 PM'], [13.2, '06 PM'], [11.46, '05 PM'], [11.38, '01 AM'], [11.05, '11 AM'], [10.8, '07 PM'], [10.25, '08 AM'], [10.09, '05 AM'], [9.41, '12 PM'], [9.02, '06 AM'], [8.13, '12 AM'], [7.99, '11 PM'], [7.85, '07 AM'], [7.8, '03 AM'], [7.17, '04 AM'], [6.75, '10 PM'], [5.58, '09 AM']]\n"
     ]
    }
   ],
   "source": [
    "avg_hr_comments = hourly_average(ask_posts, 'comments') #function call"
   ]
  },
  {
   "cell_type": "markdown",
   "metadata": {},
   "source": [
    "**3.3. print_hourly_avg(&nbsp; )**\n",
    "\n",
    "After get the data we need, now is the time to display our findings. \n",
    "\n",
    "We want to print the top 5 hours that are the most optimal for posting--in order to get the most comments.\n",
    "<br>\n",
    "To do that, we will create a function, called print_hourly_avg(&nbsp; )\n",
    "<br>\n",
    "This function take list_name as an argument and does the following:\n",
    "<br>\n",
    "\n",
    "(1) Loop through each elements in list_name up until the 5th row (since we want to print the top 5 hour)\n",
    "<br>\n",
    "(2) Use **format(&nbsp; )** to print string in a formatted way\n",
    "<br>&nbsp;&emsp; - We use {:.2f} to print the average comments per post so that it shows only two decimals\n",
    "(3) Print the output"
   ]
  },
  {
   "cell_type": "code",
   "execution_count": 13,
   "metadata": {},
   "outputs": [],
   "source": [
    "def print_hourly_avg(list_name):\n",
    "    \n",
    "    print('==============================================================================') \n",
    "    \n",
    "    for variable_per_post, hour in list_name[:5]: #(1)\n",
    "        output = \"{h}: {cp:.2f} per post\".format(h = hour, cp = variable_per_post) #(2)\n",
    "        print(output)     "
   ]
  },
  {
   "cell_type": "markdown",
   "metadata": {},
   "source": [
    "\n",
    "**3.4. convert_pt(&nbsp; )**\n",
    "<br>\n",
    "<br>\n",
    "Note that the timezone used in the dataset is Eastern Time (ET). I currently live the in California, which uses Pacific Time (PT) timezone. \n",
    "<br>So we are going to do a conversion\n",
    "<br>\n",
    "In order to do that, we are going create a function, convert_pt(&nbsp; )\n",
    "<br>\n",
    "This function takes list_name as an argument and does the following:\n",
    "<br><br>\n",
    "(1) Import pytz module\n",
    "<br>\n",
    "(2) Assign timezones\n",
    "<br>&nbsp;&emsp; - \"US/Eastern\" timezone to et_timezone\n",
    "<br>&nbsp;&emsp; - \"America/Los_Angeles\" timezone to pt_timezone\n",
    "<br>\n",
    "(3) Loop through each row in list_name\n",
    "<br>\n",
    "(4) Extract the hour from the date then convert\n",
    "<br>&nbsp;&emsp; - Use the datetime.strptime() method to parse the date and create a datetime object.\n",
    "<br>&nbsp;&emsp; - Lozalize the hour using et_timezone and assign it to et\n",
    "<br>&nbsp;&emsp; - Convert et using **astimezone(&nbsp; )**\n",
    "<br>&nbsp;&emsp; - Use the datetime.strftime() method to select just the hour from the datetime object.\n",
    "<br>&nbsp;&emsp; - Assigned the converted time back to the original row"
   ]
  },
  {
   "cell_type": "code",
   "execution_count": 14,
   "metadata": {},
   "outputs": [],
   "source": [
    "import pytz #(1)\n",
    "\n",
    "def convert_pt(list_name):\n",
    "    et_timezone = pytz.timezone(\"US/Eastern\") #(2)\n",
    "    pt_timezone = pytz.timezone(\"America/Los_Angeles\")\n",
    "    \n",
    "    for row in list_name: #(3)\n",
    "        hour = dt.datetime.strptime(row[1] ,\"%I %p\") #(4)\n",
    "        et = et_timezone.localize(hour)\n",
    "        pt = et.astimezone(pt_timezone)\n",
    "        pt_string = pt.strftime(\"%I %p\")\n",
    "        row[1] = pt_string"
   ]
  },
  {
   "cell_type": "markdown",
   "metadata": {},
   "source": [
    "We just created 2 functions:\n",
    "<br> (i). print_hourly_avg(&nbsp; )\n",
    "<br> (ii). convert_pt(&nbsp; )\n",
    "\n",
    "\n",
    "Next, we will use both functions to display the top 5 hours to get the most comments in both Eastern Time (ET) and Pacific Time (PT)"
   ]
  },
  {
   "cell_type": "code",
   "execution_count": 15,
   "metadata": {},
   "outputs": [
    {
     "name": "stdout",
     "output_type": "stream",
     "text": [
      "Top 5 Hours to post on Ask Posts to get the most comments in Eastern Time (ET)\n",
      "==============================================================================\n",
      "03 PM: 38.59 per post\n",
      "02 AM: 23.81 per post\n",
      "08 PM: 21.52 per post\n",
      "04 PM: 16.80 per post\n",
      "09 PM: 16.01 per post\n",
      "\n",
      "\n",
      "Top 5 Hours to post on Ask Posts to get the most comments in Pacific Time (PT)\n",
      "==============================================================================\n",
      "12 PM: 38.59 per post\n",
      "11 PM: 23.81 per post\n",
      "05 PM: 21.52 per post\n",
      "01 PM: 16.80 per post\n",
      "06 PM: 16.01 per post\n"
     ]
    }
   ],
   "source": [
    "#Calling both functions: print_hourly_avg(  ), and convert_pt(  )\n",
    "\n",
    "print('Top 5 Hours to post on Ask Posts to get the most comments in Eastern Time (ET)')\n",
    "print_hourly_avg(avg_hr_comments)\n",
    "\n",
    "convert_pt(avg_hr_comments)\n",
    "\n",
    "print('\\n')\n",
    "print('Top 5 Hours to post on Ask Posts to get the most comments in Pacific Time (PT)')\n",
    "print_hourly_avg(avg_hr_comments)"
   ]
  },
  {
   "cell_type": "markdown",
   "metadata": {},
   "source": [
    "Finally! We get the top 5 hours for posting that will give us the most comments.\n",
    "<br>However, one question comes to mind:\n",
    "<br><br>\n",
    "Do the posts created at those hour really get the most comments because of the timing of the post? Or is there any other factor? Like the author or the post title, perhaps?\n",
    "<br>\n",
    "Since there are columns for both author and post title in the dataset, let's check it out\n",
    "\n",
    "**3.5. check_author(&nbsp; )**\n",
    "\n",
    "We want to check the top 5 authors with the most comments.\n",
    "<br>\n",
    "In order to do so, we are going to create a function, called check_author(&nbsp; )\n",
    "<br>\n",
    "This function takes list_name and variable_name as arguments and does the following:\n",
    "<br>\n",
    "(1) Create an empty dictionary, authors\n",
    "<br>\n",
    "(2) Loop through each row in list_name\n",
    "<br>\n",
    "(3) If the author isn't a key in authors:\n",
    "<br>&nbsp;&emsp;- Create the key in authors and set it equal to the number of comments (num_variable)\n",
    "<br>&nbsp;&emsp;- Else increment the key in authors by the number of comments (num_variable)\n",
    "<br>\n",
    "(4) Create an empty list, authors_list\n",
    "<br>\n",
    "(5) Loop through authors and append the elements to the newly created authors_list\n",
    "<br>\n",
    "(6) Sort authors_list using **sorted(&nbsp; )**\n",
    "<br>&nbsp;&emsp;-set *Reverse = True* to sort in descending order\n",
    "<br>\n",
    "(7) Returns authors_list"
   ]
  },
  {
   "cell_type": "code",
   "execution_count": 18,
   "metadata": {},
   "outputs": [],
   "source": [
    "def check_author(list_name, variable_name): \n",
    "    \n",
    "    authors = {} #(1)\n",
    "    \n",
    "    if variable_name == 'comments':\n",
    "        row_variable = 4\n",
    "    if variable_name == 'points':\n",
    "        row_variable = 3\n",
    "    \n",
    "    for row in list_name: \n",
    "        author = row[5]\n",
    "        num_variable = int(row[row_variable])\n",
    "        \n",
    "        if author not in authors: #(3)\n",
    "            authors[author] = num_variable\n",
    "        else:\n",
    "            authors[author] += num_variable\n",
    "            \n",
    "    authors_list = [] #(4)\n",
    "    \n",
    "    for author in authors: #(5)\n",
    "        authors_list.append([authors[author], author])\n",
    "    \n",
    "    authors_list = sorted(authors_list, reverse = True) #(6)\n",
    "    return authors_list #(7)"
   ]
  },
  {
   "cell_type": "code",
   "execution_count": 19,
   "metadata": {},
   "outputs": [
    {
     "name": "stdout",
     "output_type": "stream",
     "text": [
      "Top 5 Authors with the most comments\n",
      "====================================\n"
     ]
    },
    {
     "data": {
      "text/plain": [
       "[[3046, 'whoishiring'],\n",
       " [868, 'mod50ack'],\n",
       " [691, 'boren_ave11'],\n",
       " [531, 'schappim'],\n",
       " [520, 'sama']]"
      ]
     },
     "execution_count": 19,
     "metadata": {},
     "output_type": "execute_result"
    }
   ],
   "source": [
    "#callling check_author( )\n",
    "\n",
    "print('Top 5 Authors with the most comments')\n",
    "print('====================================')\n",
    "\n",
    "author_most_comments = check_author(ask_posts, 'comments')\n",
    "author_most_comments[:5]"
   ]
  },
  {
   "cell_type": "markdown",
   "metadata": {},
   "source": [
    "Now that we have the top 5 authors, we want to check the title of their posts\n",
    "\n",
    "**3.6. print_title(&nbsp; )**\n",
    "<br>\n",
    "We want to check the post titles so we create a function, print_title(&nbsp; )\n",
    "<br>\n",
    "This function takes list_name and author_name as arguments and does the following:\n",
    "\n",
    "(1) Loop through each row in list_name\n",
    "<br>\n",
    "(2) Assign 'author' and 'title' from the corresponding row index\n",
    "<br>\n",
    "(3) Print the title that belongs to the author we want to check"
   ]
  },
  {
   "cell_type": "code",
   "execution_count": 20,
   "metadata": {},
   "outputs": [],
   "source": [
    "def print_title(list_name, author_name):\n",
    "    for row in list_name: #(1)\n",
    "        author = row[5]    #(2)\n",
    "        title = row[1]\n",
    "        \n",
    "        if author == author_name: #(3)\n",
    "            print(title)"
   ]
  },
  {
   "cell_type": "code",
   "execution_count": 21,
   "metadata": {},
   "outputs": [
    {
     "name": "stdout",
     "output_type": "stream",
     "text": [
      "whoishiring's posts title\n",
      "==========================\n",
      "Ask HN: Who wants to be hired? (June 2016)\n",
      "Ask HN: Freelancer? Seeking freelancer? (December 2015)\n",
      "Ask HN: Who is hiring? (September 2016)\n",
      "Ask HN: Who wants to be hired? (August 2016)\n",
      "Ask HN: Freelancer? Seeking freelancer? (September 2016)\n",
      "Ask HN: Who is hiring? (August 2016)\n",
      "Ask HN: Who wants to be hired? (April 2016)\n",
      "Ask HN: Freelancer? Seeking freelancer? (November 2015)\n",
      "Ask HN: Who wants to be hired? (March 2016)\n",
      "\n",
      "\n",
      "mod50ack's posts title\n",
      "======================\n",
      "Ask HN: What's the best tool you used to use that doesn't exist anymore?\n",
      "\n",
      "\n",
      "boren_ave11's posts title\n",
      "=========================\n",
      "Ask HN: How much do you make at Amazon? Here is how much I make at Amazon\n",
      "\n",
      "\n",
      "schappim's posts title\n",
      "======================\n",
      "Ask HN: What book have you given as a gift?\n",
      "Ask HN: Is it feasible to port Apple's Swift to the ESP8266?\n",
      "\n",
      "\n",
      "sama's posts title\n",
      "===================\n",
      "Ask HN: What should we fund at YC Research?\n"
     ]
    }
   ],
   "source": [
    "#calling print_title( )\n",
    "\n",
    "print(\"whoishiring's posts title\")\n",
    "print('==========================')\n",
    "print_title(ask_posts, 'whoishiring')\n",
    "\n",
    "print('\\n')\n",
    "print(\"mod50ack's posts title\")\n",
    "print('======================')\n",
    "print_title(ask_posts, 'mod50ack')\n",
    "\n",
    "print('\\n')\n",
    "print(\"boren_ave11's posts title\")\n",
    "print('=========================')\n",
    "print_title(ask_posts, 'boren_ave11')\n",
    "\n",
    "print('\\n')\n",
    "print(\"schappim's posts title\")\n",
    "print('======================')\n",
    "print_title(ask_posts, 'schappim')\n",
    "\n",
    "print('\\n')\n",
    "print(\"sama's posts title\")\n",
    "print('===================')\n",
    "print_title(ask_posts, 'sama')"
   ]
  },
  {
   "cell_type": "markdown",
   "metadata": {},
   "source": [
    "From the result above, we find that all of whoishiring's posts are related to hiring, whether it is looking for people who want to get hired, or looking for people who are hiring. \n",
    "\n",
    "*It appears that the posts gathered a lot of comments not because the posts are timed perfectly, but because the nature of the posts instead. It is natural to get a lot of comments if the posts are related to hiring, regardless of the time.*\n",
    "\n",
    "Because of the aforementioned reason, I decided to check on the time the posts are created. If the posts are created during the top 5 hour that are mentioned above, I am going to remove whoishiring's posts from the analysis, because the nature of whoishiring's posts are different from the other authors."
   ]
  },
  {
   "cell_type": "markdown",
   "metadata": {},
   "source": [
    "**3.7. author_post_hr_list(&nbsp; )**\n",
    "\n",
    "To get the author posting times, we create a function, author_post_hr_list(&nbsp; )\n",
    "<br> This function takes list_name and author_name as arguments and does the following:\n",
    "\n",
    "(1) Create an empty dictionary, author_dict, to create a frequency table with hour as key and the number of posts crated as its values\n",
    "<br>\n",
    "(2) Extract the hour from the date then convert\n",
    "<br>&nbsp;&emsp; - Use the **datetime.strptime(&nbsp; )** method to parse the date and create a datetime object.\n",
    "<br>&nbsp;&emsp; - Use the **datetime.strftime(&nbsp; )** method to select just the hour from the datetime object.\n",
    "<br>\n",
    "(3) If the hour isn't a key in author_dict:\n",
    "<br>&nbsp;&emsp; - Create the key in authors and set it equal to 1\n",
    "<br>&nbsp;&emsp; - Else increment the key in authors with by '1'\n",
    "<br>\n",
    "(4) Create an empty list, author_list and append the author_dict's values to it.\n",
    "<br>&nbsp;&emsp; - We created author_list so that we can convert the hour from ET to PT later on.\n",
    "<br>\n",
    "(5) Return author_list"
   ]
  },
  {
   "cell_type": "code",
   "execution_count": 22,
   "metadata": {},
   "outputs": [],
   "source": [
    "def author_post_hr_list(list_name, author_name):\n",
    "    date_format = \"%m/%d/%Y %H:%M\"\n",
    "    \n",
    "    author_dict = {}   #(1)\n",
    "    \n",
    "    for row in list_name:\n",
    "        if (row[5] == author_name): \n",
    "            datetime_str = row[6]\n",
    "            datetime_dt = dt.datetime.strptime(datetime_str, date_format)  #(2)\n",
    "            hour_str = datetime_dt.strftime(\"%I %p\") \n",
    "            \n",
    "            if hour_str not in author_dict:  #(3)\n",
    "                author_dict[hour_str] = 1\n",
    "            else:\n",
    "                author_dict[hour_str] += 1\n",
    "                \n",
    "    author_list = []   #(4)\n",
    "           \n",
    "    for hour in author_dict:\n",
    "        author_list.append([author_dict[hour], hour])\n",
    "        \n",
    "    return author_list    #(5)"
   ]
  },
  {
   "cell_type": "code",
   "execution_count": 23,
   "metadata": {},
   "outputs": [
    {
     "name": "stdout",
     "output_type": "stream",
     "text": [
      "whoishiring_hr\n",
      "[[9, '03 PM']]\n"
     ]
    }
   ],
   "source": [
    "#calling author_post_hr_list( )\n",
    "\n",
    "whoishiring_hr = author_post_hr_list(ask_posts, 'whoishiring')\n",
    "print('whoishiring_hr')\n",
    "print(whoishiring_hr)"
   ]
  },
  {
   "cell_type": "markdown",
   "metadata": {},
   "source": [
    "**3.8. print_post_count(&nbsp; )**\n",
    "<br>\n",
    "<br>Now that we get the posting time of the author (whoishiring_hr), it's time display the result in a good format.\n",
    "<br>In order to do so, we create a function, print_post_count(&nbsp; )\n",
    "<br>This function take list_name as an argument and does the following:\n",
    "\n",
    "<br>\n",
    "(1) Loop through each elements in list_name\n",
    "\n",
    "(2) Use **format(&nbsp; )** to print string in a formatted way\n",
    "\n",
    "(3) Print the output"
   ]
  },
  {
   "cell_type": "code",
   "execution_count": 24,
   "metadata": {},
   "outputs": [],
   "source": [
    "def print_post_count(list_name):   #(1)\n",
    "    for posts, hour in list_name:\n",
    "        output = '{p} post(s) created at {h}'.format(h = hour, p = posts)   #(2)\n",
    "        print(output)   #(3)"
   ]
  },
  {
   "cell_type": "code",
   "execution_count": 25,
   "metadata": {},
   "outputs": [
    {
     "name": "stdout",
     "output_type": "stream",
     "text": [
      "whoishiring's post count in Eastern Time (ET)\n",
      "=============================================\n",
      "9 post(s) created at 03 PM\n"
     ]
    }
   ],
   "source": [
    "print(\"whoishiring's post count in Eastern Time (ET)\")  \n",
    "print('=============================================') \n",
    "print_post_count(whoishiring_hr)"
   ]
  },
  {
   "cell_type": "markdown",
   "metadata": {},
   "source": [
    "Next, we will convert the time from ET to PT using convert_pt(&nbsp; ), which we defined earlier and then print the posting time in PT using print_post_count(&nbsp; )"
   ]
  },
  {
   "cell_type": "code",
   "execution_count": 26,
   "metadata": {},
   "outputs": [
    {
     "name": "stdout",
     "output_type": "stream",
     "text": [
      "whoishiring's post count in Pacific Time (PT)\n",
      "=============================================\n",
      "9 post(s) created at 12 PM\n"
     ]
    }
   ],
   "source": [
    "convert_pt(whoishiring_hr) #calling a function that we defined earlier\n",
    "\n",
    "print(\"whoishiring's post count in Pacific Time (PT)\")  \n",
    "print('=============================================')\n",
    "print_post_count(whoishiring_hr) #calling a function that we defined earlier"
   ]
  },
  {
   "cell_type": "markdown",
   "metadata": {},
   "source": [
    "Based on the result above, we find that whoishiring created 9 posts at 12 PM (PT). If we look back to our findings above, 12 PM (PT) is ranked number 1 in the Top 5 Hours to post on Ask Posts to get the most comments in Pacific Time (PT)."
   ]
  },
  {
   "cell_type": "markdown",
   "metadata": {},
   "source": [
    "**3.9. Remove whoishiring's posts from the analysis and re-explore the num_comments column**\n",
    "\n",
    "As previously mentioned, since whoishiring's posts are created during the aforementioned top 5 hour, **I am going to remove whoishiring's posts from the analysis**, because the nature of whoishiring's posts are different from the other authors.\n",
    "<br>(Note: whoishiring's posts are related to hiring)\n",
    "\n",
    "We are going to do the following:\n",
    "<br>\n",
    "(1) Create an empty list, posts_without_whoishiring, and append all the rows from ask_posts with whoishiring as an author to the newly created list.\n",
    "<br>\n",
    "(2) Use hourly_average(&nbsp; )\n",
    "<br>&nbsp;&emsp; - Calculate the amount of posts created in ask_posts in each hour of the day, along with the number of comments received (posts per hour)\n",
    "<br>&nbsp;&emsp; - Calculate the average number of comments per post in ask posts in every hour. (comments per hour)\n",
    "<br>\n",
    "(3) Use print_hourly_avg(&nbsp; ) to print the top 5 hours in ET\n",
    "<br>\n",
    "(4) Use convert_pt to convert time from ET to PT\n",
    "<br>\n",
    "(5) Use print_hourly_avg(&nbsp; ) to print the top 5 hours in PT"
   ]
  },
  {
   "cell_type": "code",
   "execution_count": 27,
   "metadata": {},
   "outputs": [
    {
     "name": "stdout",
     "output_type": "stream",
     "text": [
      "posts_per_hour\n",
      "{'09 AM': 45, '01 PM': 85, '10 AM': 59, '02 PM': 107, '04 PM': 108, '11 PM': 68, '12 PM': 73, '05 PM': 100, '03 PM': 107, '09 PM': 109, '08 PM': 80, '02 AM': 58, '06 PM': 109, '03 AM': 54, '05 AM': 46, '07 PM': 110, '01 AM': 60, '10 PM': 71, '08 AM': 48, '04 AM': 47, '12 AM': 55, '06 AM': 44, '07 AM': 34, '11 AM': 58}\n",
      "\n",
      "\n",
      "comments_per_hour\n",
      "{'09 AM': 251, '01 PM': 1253, '10 AM': 793, '02 PM': 1416, '04 PM': 1814, '11 PM': 543, '12 PM': 687, '05 PM': 1146, '03 PM': 1431, '09 PM': 1745, '08 PM': 1722, '02 AM': 1381, '06 PM': 1439, '03 AM': 421, '05 AM': 464, '07 PM': 1188, '01 AM': 683, '10 PM': 479, '08 AM': 492, '04 AM': 337, '12 AM': 447, '06 AM': 397, '07 AM': 267, '11 AM': 641}\n",
      "\n",
      "\n",
      "avg_by_hour (sorted in descending order)\n",
      "[[23.81, '02 AM'], [21.52, '08 PM'], [16.8, '04 PM'], [16.01, '09 PM'], [14.74, '01 PM'], [13.44, '10 AM'], [13.37, '03 PM'], [13.23, '02 PM'], [13.2, '06 PM'], [11.46, '05 PM'], [11.38, '01 AM'], [11.05, '11 AM'], [10.8, '07 PM'], [10.25, '08 AM'], [10.09, '05 AM'], [9.41, '12 PM'], [9.02, '06 AM'], [8.13, '12 AM'], [7.99, '11 PM'], [7.85, '07 AM'], [7.8, '03 AM'], [7.17, '04 AM'], [6.75, '10 PM'], [5.58, '09 AM']]\n"
     ]
    }
   ],
   "source": [
    "posts_without_whoishiring = [] #(1)\n",
    "\n",
    "for row in ask_posts:\n",
    "    author = row[5]\n",
    "    if author != 'whoishiring':\n",
    "        posts_without_whoishiring.append(row)\n",
    "\n",
    "avg_hr_comments_wo_whoishiring = hourly_average(posts_without_whoishiring, 'comments') #(2)"
   ]
  },
  {
   "cell_type": "code",
   "execution_count": 28,
   "metadata": {},
   "outputs": [
    {
     "name": "stdout",
     "output_type": "stream",
     "text": [
      "avg_hr_comments_wo_whoishiring\n",
      "[[23.81, '02 AM'], [21.52, '08 PM'], [16.8, '04 PM'], [16.01, '09 PM'], [14.74, '01 PM'], [13.44, '10 AM'], [13.37, '03 PM'], [13.23, '02 PM'], [13.2, '06 PM'], [11.46, '05 PM'], [11.38, '01 AM'], [11.05, '11 AM'], [10.8, '07 PM'], [10.25, '08 AM'], [10.09, '05 AM'], [9.41, '12 PM'], [9.02, '06 AM'], [8.13, '12 AM'], [7.99, '11 PM'], [7.85, '07 AM'], [7.8, '03 AM'], [7.17, '04 AM'], [6.75, '10 PM'], [5.58, '09 AM']]\n"
     ]
    }
   ],
   "source": [
    "print('avg_hr_comments_wo_whoishiring')\n",
    "print(avg_hr_comments_wo_whoishiring) #printing the result from (2)"
   ]
  },
  {
   "cell_type": "code",
   "execution_count": 29,
   "metadata": {},
   "outputs": [
    {
     "name": "stdout",
     "output_type": "stream",
     "text": [
      "Top 5 Hours to post on Ask Posts to get the most comments in Eastern Time (ET)\n",
      "==============================================================================\n",
      "02 AM: 23.81 per post\n",
      "08 PM: 21.52 per post\n",
      "04 PM: 16.80 per post\n",
      "09 PM: 16.01 per post\n",
      "01 PM: 14.74 per post\n"
     ]
    }
   ],
   "source": [
    "print('Top 5 Hours to post on Ask Posts to get the most comments in Eastern Time (ET)')\n",
    "print_hourly_avg(avg_hr_comments_wo_whoishiring) #(3)"
   ]
  },
  {
   "cell_type": "code",
   "execution_count": 30,
   "metadata": {},
   "outputs": [],
   "source": [
    "convert_pt(avg_hr_comments_wo_whoishiring) #(4)"
   ]
  },
  {
   "cell_type": "code",
   "execution_count": 31,
   "metadata": {},
   "outputs": [
    {
     "name": "stdout",
     "output_type": "stream",
     "text": [
      "Top 5 Hours to post on Ask Posts to get the most comments Pacific Time (PT)\n",
      "==============================================================================\n",
      "11 PM: 23.81 per post\n",
      "05 PM: 21.52 per post\n",
      "01 PM: 16.80 per post\n",
      "06 PM: 16.01 per post\n",
      "10 AM: 14.74 per post\n"
     ]
    }
   ],
   "source": [
    "print('Top 5 Hours to post on Ask Posts to get the most comments Pacific Time (PT)')\n",
    "print_hourly_avg(avg_hr_comments_wo_whoishiring) #(5)"
   ]
  },
  {
   "cell_type": "markdown",
   "metadata": {},
   "source": [
    "At last! We managed to find that optimal to post on asks_posts to get the most comments! Based on the result above, after removing whoishiring's post from the analysis we find that the most optimal time to post --in order to get the most comments-- is at 11PM (PT) or 2AM (ET)\n",
    "\n",
    "**That was the answer to our second question: What is the most optimal time to create posts that gather the most comments?**"
   ]
  },
  {
   "cell_type": "markdown",
   "metadata": {},
   "source": [
    "## 4. Exploring num_points\n",
    "\n",
    "Now there is one more thing, we want to find the optimal time to get the most points too! To do that, we are going to explore num_points the same way we did num_comments.\n",
    "\n",
    "Thankfully, we have created a lot of functions when exploring num_comments, so we will have an easier time exploring now. All we need to do is to call all the functions we defined earlier\n",
    "\n",
    "**4.1. explore(&nbsp )**\n",
    "\n",
    "Using explore(&nbsp; ), we will be able to find the average points in both ask_posts and show_posts"
   ]
  },
  {
   "cell_type": "code",
   "execution_count": 32,
   "metadata": {},
   "outputs": [
    {
     "name": "stdout",
     "output_type": "stream",
     "text": [
      "Average points on ask_posts:\n",
      "15.06\n",
      "\n",
      "\n",
      "Average points on show_posts:\n",
      "27.56\n"
     ]
    }
   ],
   "source": [
    "print('Average points on ask_posts:')\n",
    "explore(ask_posts, 'points')\n",
    "print('\\n')\n",
    "\n",
    "print('Average points on show_posts:')\n",
    "explore(show_posts, 'points')"
   ]
  },
  {
   "cell_type": "markdown",
   "metadata": {},
   "source": [
    "Since show_posts has more points on average, this indicates that show_posts are more likely to receive points from the user. Hence, we will focus on show_posts when exploring the num_points column\n",
    "\n",
    "**This answers our third question: Which kind of posts receive the most comments? \n",
    "<br>Answer: Posts that start with Show HN (show_posts)**\n",
    "\n"
   ]
  },
  {
   "cell_type": "markdown",
   "metadata": {},
   "source": [
    "**4.2 hourly_average(&nbsp; )** \n",
    "\n",
    "Using hourly_average(&nbsp; ), we will do the following:\n",
    "\n",
    "(1) Calculate the amount of posts created in show_posts in each hour of the day (posts per hour).\n",
    "<br>\n",
    "(2) Calculate the average number of points per post in show_posts in every hour. (points per hour)\n",
    "<br>\n",
    "(3) Sort the list by the average number of comments (descending order)"
   ]
  },
  {
   "cell_type": "code",
   "execution_count": 33,
   "metadata": {},
   "outputs": [
    {
     "name": "stdout",
     "output_type": "stream",
     "text": [
      "avg_hr_points\n",
      "=============\n",
      "posts_per_hour\n",
      "{'02 PM': 86, '10 PM': 46, '06 PM': 61, '07 AM': 26, '08 PM': 60, '05 AM': 19, '04 PM': 93, '07 PM': 55, '03 PM': 78, '03 AM': 27, '05 PM': 93, '06 AM': 16, '02 AM': 30, '01 PM': 99, '08 AM': 34, '09 PM': 47, '04 AM': 26, '11 AM': 44, '12 PM': 61, '11 PM': 36, '09 AM': 30, '01 AM': 28, '10 AM': 36, '12 AM': 31}\n",
      "\n",
      "\n",
      "points_per_hour\n",
      "{'02 PM': 2187, '10 PM': 1856, '06 PM': 2215, '07 AM': 494, '08 PM': 1819, '05 AM': 104, '04 PM': 2634, '07 PM': 1702, '03 PM': 2228, '03 AM': 679, '05 PM': 2521, '06 AM': 375, '02 AM': 340, '01 PM': 2438, '08 AM': 519, '09 PM': 866, '04 AM': 386, '11 AM': 1480, '12 PM': 2543, '11 PM': 1526, '09 AM': 553, '01 AM': 700, '10 AM': 681, '12 AM': 1173}\n",
      "\n",
      "\n",
      "avg_by_hour (sorted in descending order)\n",
      "[[42.39, '11 PM'], [41.69, '12 PM'], [40.35, '10 PM'], [37.84, '12 AM'], [36.31, '06 PM'], [33.64, '11 AM'], [30.95, '07 PM'], [30.32, '08 PM'], [28.56, '03 PM'], [28.32, '04 PM'], [27.11, '05 PM'], [25.43, '02 PM'], [25.15, '03 AM'], [25.0, '01 AM'], [24.63, '01 PM'], [23.44, '06 AM'], [19.0, '07 AM'], [18.92, '10 AM'], [18.43, '09 PM'], [18.43, '09 AM'], [15.26, '08 AM'], [14.85, '04 AM'], [11.33, '02 AM'], [5.47, '05 AM']]\n"
     ]
    }
   ],
   "source": [
    "print('avg_hr_points')\n",
    "print('=============')\n",
    "avg_hr_points = hourly_average(show_posts, 'points')  #(1), (2), (3)"
   ]
  },
  {
   "cell_type": "markdown",
   "metadata": {},
   "source": [
    "**4.3. print_hourly_avg(&nbsp; )**\n",
    "\n",
    "Using print_hourly_avg(&nbsp; ), we will display the top 5 Hours to post on Ask Posts --in order to get the most points in both Eastern Time and Pacific Time."
   ]
  },
  {
   "cell_type": "code",
   "execution_count": 34,
   "metadata": {},
   "outputs": [
    {
     "name": "stdout",
     "output_type": "stream",
     "text": [
      "Top 5 Hours to post on Show Posts to get the most points in Eastern Time (ET)\n",
      "==============================================================================\n",
      "11 PM: 42.39 per post\n",
      "12 PM: 41.69 per post\n",
      "10 PM: 40.35 per post\n",
      "12 AM: 37.84 per post\n",
      "06 PM: 36.31 per post\n"
     ]
    }
   ],
   "source": [
    "print('Top 5 Hours to post on Show Posts to get the most points in Eastern Time (ET)')\n",
    "print_hourly_avg(avg_hr_points) #calling print_hourly_avg for ET"
   ]
  },
  {
   "cell_type": "markdown",
   "metadata": {},
   "source": [
    "**4.4. convert_pt(&nbsp; )**\n",
    "\n",
    "Using convert_pt(&nbsp; ), we will convert the time from PT to ET"
   ]
  },
  {
   "cell_type": "code",
   "execution_count": 35,
   "metadata": {},
   "outputs": [],
   "source": [
    "convert_pt(avg_hr_points)"
   ]
  },
  {
   "cell_type": "code",
   "execution_count": 36,
   "metadata": {},
   "outputs": [
    {
     "name": "stdout",
     "output_type": "stream",
     "text": [
      "Top 5 Hours to post on Show Posts to get the most points in Pacific Time (PT)\n",
      "==============================================================================\n",
      "08 PM: 42.39 per post\n",
      "09 AM: 41.69 per post\n",
      "07 PM: 40.35 per post\n",
      "09 PM: 37.84 per post\n",
      "03 PM: 36.31 per post\n"
     ]
    }
   ],
   "source": [
    "print('Top 5 Hours to post on Show Posts to get the most points in Pacific Time (PT)')\n",
    "print_hourly_avg(avg_hr_points) #calling print_hourly_avg for PT (see 4.3)"
   ]
  },
  {
   "cell_type": "markdown",
   "metadata": {},
   "source": [
    "**4.5. check_author(&nbsp; )**\n",
    "\n",
    "Using check_author(&nbsp; ), we will display the top 5 author with the most points"
   ]
  },
  {
   "cell_type": "code",
   "execution_count": 37,
   "metadata": {},
   "outputs": [
    {
     "name": "stdout",
     "output_type": "stream",
     "text": [
      "Top 5 Authors with the most points\n",
      "====================================\n",
      "[[825, 'petermolyneux'], [747, 'dhotson'], [681, 'damjanstankovic'], [572, 'orf'], [553, 'Capira']]\n"
     ]
    }
   ],
   "source": [
    "print('Top 5 Authors with the most points')\n",
    "print('====================================')\n",
    "\n",
    "author_most_points = check_author(show_posts, 'points')\n",
    "print(author_most_points[:5])"
   ]
  },
  {
   "cell_type": "markdown",
   "metadata": {},
   "source": [
    "**4.6. print_title(&nbsp; )**\n",
    "\n",
    "Using print_title(&nbsp; ), we will display the titles of the post created by the authors above"
   ]
  },
  {
   "cell_type": "code",
   "execution_count": 38,
   "metadata": {},
   "outputs": [
    {
     "name": "stdout",
     "output_type": "stream",
     "text": [
      "petermolyneux's posts title\n",
      "==========================\n",
      "Show HN: New calendar app idea\n",
      "\n",
      "\n",
      "dhotson's posts title\n",
      "======================\n",
      "Show HN: Something pointless I made\n",
      "\n",
      "\n",
      "damjanstankovic's posts title\n",
      "=============================\n",
      "Show HN: I spent a year making an electro-mechanical prototype of a liquid clock\n",
      "\n",
      "\n",
      "orf's posts title\n",
      "=================\n",
      "Show HN: Hacker News Simulator\n",
      "\n",
      "\n",
      "Capira's posts title\n",
      "======================\n",
      "Show HN: What every browser knows about you\n"
     ]
    }
   ],
   "source": [
    "print(\"petermolyneux's posts title\")\n",
    "print('==========================')\n",
    "print_title(show_posts, 'petermolyneux')\n",
    "\n",
    "print('\\n')\n",
    "print(\"dhotson's posts title\")\n",
    "print('======================')\n",
    "print_title(show_posts, 'dhotson')\n",
    "\n",
    "print('\\n')\n",
    "print(\"damjanstankovic's posts title\")\n",
    "print('=============================')\n",
    "print_title(show_posts, 'damjanstankovic')\n",
    "\n",
    "print('\\n')\n",
    "print(\"orf's posts title\")\n",
    "print('=================')\n",
    "print_title(show_posts, 'orf')\n",
    "\n",
    "print('\\n')\n",
    "print(\"Capira's posts title\")\n",
    "print('======================')\n",
    "print_title(show_posts, 'Capira')"
   ]
  },
  {
   "cell_type": "markdown",
   "metadata": {},
   "source": [
    "The results suggest that **none of the authors posted a post that belongs to a specific category, such as hiring**   (which was what happened in the num_comments exploration). Therefore, I'm not going to remove any posts from the analysis --unlike what we do with whoishiring in the num_comments exploration\n",
    "\n",
    "**Thus, the answer to our third question, 'What is the most optimal time to create posts that gather the most comments?', \n",
    "<br>is at 08 PM, with 42.39 points per post (see 4.3)**\n"
   ]
  },
  {
   "cell_type": "markdown",
   "metadata": {},
   "source": [
    "## 5 CONCLUSION"
   ]
  },
  {
   "cell_type": "code",
   "execution_count": 46,
   "metadata": {},
   "outputs": [
    {
     "name": "stdout",
     "output_type": "stream",
     "text": [
      "Top 5 Hours to post on Ask Posts to get the most comments Pacific Time (PT)\n",
      "==============================================================================\n",
      "11 PM: 23.81 per post\n",
      "05 PM: 21.52 per post\n",
      "01 PM: 16.80 per post\n",
      "06 PM: 16.01 per post\n",
      "10 AM: 14.74 per post\n",
      "\n",
      "\n",
      "Top 5 Hours to post on Show Posts to get the most points in Pacific Time (PT)\n",
      "==============================================================================\n",
      "08 PM: 42.39 per post\n",
      "09 AM: 41.69 per post\n",
      "07 PM: 40.35 per post\n",
      "09 PM: 37.84 per post\n",
      "03 PM: 36.31 per post\n"
     ]
    }
   ],
   "source": [
    "#Conclusion data\n",
    "print('Top 5 Hours to post on Ask Posts to get the most comments Pacific Time (PT)')\n",
    "print_hourly_avg(avg_hr_comments_wo_whoishiring) #(see 3.9)\n",
    "print('\\n')\n",
    "print('Top 5 Hours to post on Show Posts to get the most points in Pacific Time (PT)')\n",
    "print_hourly_avg(avg_hr_points) #(see 4.3)"
   ]
  },
  {
   "cell_type": "markdown",
   "metadata": {},
   "source": [
    "After exploring the hackernews dataset, we found the following:\n",
    "\n",
    "(1) Posts whose titles begin with Ask HN receive more comments\n",
    "<br>\n",
    "(2) To get the most comments, we need to create a post with a title that begins with Ask HN, and post it at 11 PM (PT)\n",
    "<br>\n",
    "(3) Posts whose titles begin with Show HN receive more points\n",
    "<br>\n",
    "(4) To get the most points, we need to create a post with a title that begins with Show HN, and post it at 8 PM (PT)"
   ]
  }
 ],
 "metadata": {
  "kernelspec": {
   "display_name": "Python 3",
   "language": "python",
   "name": "python3"
  },
  "language_info": {
   "codemirror_mode": {
    "name": "ipython",
    "version": 3
   },
   "file_extension": ".py",
   "mimetype": "text/x-python",
   "name": "python",
   "nbconvert_exporter": "python",
   "pygments_lexer": "ipython3",
   "version": "3.7.6"
  }
 },
 "nbformat": 4,
 "nbformat_minor": 4
}
